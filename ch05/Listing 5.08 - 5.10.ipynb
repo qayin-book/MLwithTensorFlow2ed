{
 "cells": [
  {
   "cell_type": "code",
   "execution_count": 46,
   "metadata": {},
   "outputs": [],
   "source": [
    "import numpy as np\n",
    "import tensorflow as tf\n",
    "import matplotlib.pyplot as plt"
   ]
  },
  {
   "cell_type": "code",
   "execution_count": 47,
   "metadata": {},
   "outputs": [],
   "source": [
    "x1_label0 = np.random.normal(1, 1, (100, 1))\n",
    "x2_label0 = np.random.normal(1, 1, (100, 1))\n",
    "x1_label1 = np.random.normal(5, 1, (100, 1))\n",
    "x2_label1 = np.random.normal(4, 1, (100, 1))\n",
    "x1_label2 = np.random.normal(8, 1, (100, 1))\n",
    "x2_label2 = np.random.normal(0, 1, (100, 1))\n",
    "#print(x1_label0)\n",
    "#print(x2_label0)\n",
    "#blah = np.hstack((x1_label0, x2_label0))\n",
    "#print(blah.shape)\n",
    "#print(blah[0][0])\n",
    "#print(blah[1][0])\n",
    "#print(blah[0][1])\n",
    "#print(blah[1][1])"
   ]
  },
  {
   "cell_type": "code",
   "execution_count": 48,
   "metadata": {},
   "outputs": [
    {
     "data": {
      "text/plain": "<Figure size 432x288 with 1 Axes>",
      "image/png": "[encoded data removed]"
     },
     "metadata": {
      "needs_background": "light"
     },
     "output_type": "display_data"
    }
   ],
   "source": [
    "plt.scatter(x1_label0, x2_label0, c='r', marker='o', s=60)\n",
    "plt.scatter(x1_label1, x2_label1, c='g', marker='x', s=60)\n",
    "plt.scatter(x1_label2, x2_label2, c='b', marker='_', s=60)\n",
    "plt.show()"
   ]
  },
  {
   "cell_type": "code",
   "execution_count": 49,
   "metadata": {},
   "outputs": [],
   "source": [
    "xs_label0 = np.hstack((x1_label0, x2_label0))\n",
    "xs_label1 = np.hstack((x1_label1, x2_label1))\n",
    "xs_label2 = np.hstack((x1_label2, x2_label2))\n",
    "xs = np.vstack((xs_label0, xs_label1, xs_label2))"
   ]
  },
  {
   "cell_type": "code",
   "execution_count": 50,
   "metadata": {},
   "outputs": [
    {
     "name": "stdout",
     "output_type": "stream",
     "text": [
      "(300, 2)\n"
     ]
    }
   ],
   "source": [
    "print(xs.shape)"
   ]
  },
  {
   "cell_type": "code",
   "execution_count": 51,
   "metadata": {},
   "outputs": [],
   "source": [
    "labels = np.matrix([[1., 0., 0.]] * len(x1_label0) + [[0., 1., 0.]] * len(x1_label1) + [[0., 0., 1.]] * len(x1_label2))"
   ]
  },
  {
   "cell_type": "code",
   "execution_count": 52,
   "metadata": {},
   "outputs": [],
   "source": [
    "arr = np.arange(xs.shape[0])\n",
    "np.random.shuffle(arr)\n",
    "xs = xs[arr, :]\n",
    "labels = labels[arr, :]"
   ]
  },
  {
   "cell_type": "code",
   "execution_count": 53,
   "metadata": {},
   "outputs": [],
   "source": [
    "test_x1_label0 = np.random.normal(1, 1, (10, 1))\n",
    "test_x2_label0 = np.random.normal(1, 1, (10, 1))\n",
    "test_x1_label1 = np.random.normal(5, 1, (10, 1))\n",
    "test_x2_label1 = np.random.normal(4, 1, (10, 1))\n",
    "test_x1_label2 = np.random.normal(8, 1, (10, 1))\n",
    "test_x2_label2 = np.random.normal(0, 1, (10, 1))\n",
    "test_xs_label0 = np.hstack((test_x1_label0, test_x2_label0))\n",
    "test_xs_label1 = np.hstack((test_x1_label1, test_x2_label1))\n",
    "test_xs_label2 = np.hstack((test_x1_label2, test_x2_label2))\n",
    "test_xs = np.vstack((test_xs_label0, test_xs_label1, test_xs_label2))\n",
    "test_labels = np.matrix([[1., 0., 0.]] * 10 + [[0., 1., 0.]] * 10 + [[0., 0.,1.]] * 10)\n",
    "train_size, num_features = xs.shape"
   ]
  },
  {
   "cell_type": "code",
   "execution_count": 54,
   "metadata": {},
   "outputs": [
    {
     "name": "stdout",
     "output_type": "stream",
     "text": [
      "(300, 2)\n",
      "(300, 3)\n"
     ]
    }
   ],
   "source": [
    "print(xs.shape)\n",
    "print(labels.shape)"
   ]
  },
  {
   "cell_type": "code",
   "execution_count": 55,
   "metadata": {},
   "outputs": [],
   "source": [
    "learning_rate = 0.01\n",
    "training_epochs = 1000\n",
    "num_labels = 3\n",
    "batch_size = 100"
   ]
  },
  {
   "cell_type": "code",
   "execution_count": 56,
   "metadata": {},
   "outputs": [],
   "source": [
    "X = tf.placeholder(\"float\", shape=[None, num_features])\n",
    "Y = tf.placeholder(\"float\", shape=[None, num_labels])\n",
    "W = tf.Variable(tf.zeros([num_features, num_labels]))\n",
    "b = tf.Variable(tf.zeros([num_labels]))\n",
    "y_model = tf.nn.softmax(tf.matmul(X, W) + b)"
   ]
  },
  {
   "cell_type": "code",
   "execution_count": 57,
   "metadata": {},
   "outputs": [],
   "source": [
    "cost = -tf.reduce_sum(Y * tf.log(y_model))\n",
    "train_op = tf.train.GradientDescentOptimizer(learning_rate).minimize(cost)"
   ]
  },
  {
   "cell_type": "code",
   "execution_count": 58,
   "metadata": {},
   "outputs": [],
   "source": [
    "correct_prediction = tf.equal(tf.argmax(y_model, 1), tf.argmax(Y, 1))\n",
    "accuracy = tf.reduce_mean(tf.cast(correct_prediction, \"float\"))"
   ]
  },
  {
   "cell_type": "code",
   "execution_count": 59,
   "metadata": {},
   "outputs": [
    {
     "name": "stdout",
     "output_type": "stream",
     "text": [
      "w [[-2.4469354   0.41118726  2.0357516 ]\n",
      " [-0.46492815  2.178229   -1.7133017 ]]\n",
      "b [11.586773 -4.126158 -7.460643]\n",
      "accuracy 1.0\n",
      "Model saved in path: ../models/ch4-softmax-reg-model.ckpt\n"
     ]
    }
   ],
   "source": [
    "saver = tf.train.Saver()\n",
    "with tf.Session() as sess:\n",
    "    tf.global_variables_initializer().run()\n",
    "    # for step in range(training_epochs * train_size // batch_size):\n",
    "    #     offset = (step * batch_size) % train_size\n",
    "    #     batch_xs = xs[offset:(offset + batch_size), :]\n",
    "    #     batch_labels = labels[offset:(offset + batch_size)]\n",
    "    #     err, _ = sess.run([cost, train_op], feed_dict={X: batch_xs, Y: batch_labels})\n",
    "        # print (step, err)\n",
    "    for epoch in range(training_epochs):\n",
    "        for step in range(train_size // batch_size):\n",
    "            batch_xs = xs[step * batch_size: (step + 1) * batch_size, :]\n",
    "            batch_labels = labels[step * batch_size: (step + 1) * batch_size]\n",
    "            err, _ = sess.run([cost, train_op], feed_dict={X: batch_xs, Y: batch_labels})\n",
    "    \n",
    "    W_val = sess.run(W)\n",
    "    print('w', W_val)\n",
    "    b_val = sess.run(b)\n",
    "    print('b', b_val)\n",
    "    print(\"accuracy\", accuracy.eval(feed_dict={X: test_xs, Y: test_labels}))\n",
    "    save_path = saver.save(sess, \"../models/ch4-softmax-reg-model.ckpt\")\n",
    "    print(\"Model saved in path: %s\" % save_path)"
   ]
  },
  {
   "cell_type": "code",
   "execution_count": 60,
   "metadata": {},
   "outputs": [
    {
     "name": "stdout",
     "output_type": "stream",
     "text": [
      "INFO:tensorflow:Restoring parameters from ../models/ch4-softmax-reg-model.ckpt\n",
      "Model restored.\n",
      "[2]\n"
     ]
    }
   ],
   "source": [
    "saver = tf.train.Saver()\n",
    "with tf.Session() as sess:\n",
    "    saver.restore(sess, save_path)\n",
    "    print(\"Model restored.\")   \n",
    "    print(np.argmax(y_model.eval(feed_dict={X: [[6., -2.]], W: W_val, b: b_val}), 1))"
   ]
  },
  {
   "cell_type": "code",
   "execution_count": 60,
   "metadata": {},
   "outputs": [],
   "source": []
  }
 ],
 "metadata": {
  "kernelspec": {
   "display_name": "Python 3",
   "language": "python",
   "name": "python3"
  },
  "language_info": {
   "codemirror_mode": {
    "name": "ipython",
    "version": 3
   },
   "file_extension": ".py",
   "mimetype": "text/x-python",
   "name": "python",
   "nbconvert_exporter": "python",
   "pygments_lexer": "ipython3",
   "version": "3.7.0b1"
  }
 },
 "nbformat": 4,
 "nbformat_minor": 2
}